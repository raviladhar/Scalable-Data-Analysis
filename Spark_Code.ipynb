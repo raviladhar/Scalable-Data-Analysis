{
 "cells": [
  {
   "cell_type": "code",
   "execution_count": 1,
   "metadata": {
    "collapsed": true
   },
   "outputs": [],
   "source": [
    "import pyspark\n",
    "from pyspark import SQLContext\n",
    "from pyspark import SparkContext\n",
    "import time\n",
    "from pyspark.sql import Row\n",
    "from pyspark.sql.functions import lag, col, toRadians, sqrt, sin, cos, asin, lit, unix_timestamp, from_unixtime, datediff,sum\n",
    "from pyspark.sql.functions import isnan, when, count, col, expr\n",
    "from pyspark.sql.window import Window\n",
    "from pyspark import SparkConf\n",
    "from pyspark.sql.functions import countDistinct\n",
    "import numpy as np"
   ]
  },
  {
   "cell_type": "code",
   "execution_count": 2,
   "metadata": {},
   "outputs": [
    {
     "data": {
      "text/html": [
       "\n",
       "        <div>\n",
       "            <p><b>SparkContext</b></p>\n",
       "\n",
       "            <p><a href=\"http://134.88.94.54:4040\">Spark UI</a></p>\n",
       "\n",
       "            <dl>\n",
       "              <dt>Version</dt>\n",
       "                <dd><code>v2.2.0</code></dd>\n",
       "              <dt>Master</dt>\n",
       "                <dd><code>local[*]</code></dd>\n",
       "              <dt>AppName</dt>\n",
       "                <dd><code>App</code></dd>\n",
       "            </dl>\n",
       "        </div>\n",
       "        "
      ],
      "text/plain": [
       "<SparkContext master=local[*] appName=App>"
      ]
     },
     "execution_count": 2,
     "metadata": {},
     "output_type": "execute_result"
    }
   ],
   "source": [
    "#sc = pyspark.SparkContext.getOrCreate()\n",
    "#https://datascience.stackexchange.com/questions/8549/how-do-i-set-get-heap-size-for-spark-via-python-notebook\n",
    "\n",
    "conf = SparkConf().setAppName(\"App\")\n",
    "conf = (conf.setMaster('local[*]')\n",
    "        .set('spark.executor.memory', '4G')\n",
    "        .set('spark.driver.memory', '45G')\n",
    "        .set('spark.driver.maxResultSize', '10G'))\n",
    "sc = SparkContext(conf=conf)\n",
    "sc"
   ]
  },
  {
   "cell_type": "code",
   "execution_count": 3,
   "metadata": {
    "collapsed": true
   },
   "outputs": [],
   "source": [
    "sqlContext = SQLContext(sc)"
   ]
  },
  {
   "cell_type": "code",
   "execution_count": 4,
   "metadata": {},
   "outputs": [
    {
     "name": "stdout",
     "output_type": "stream",
     "text": [
      "total time taken: 174.84401297569275\n"
     ]
    }
   ],
   "source": [
    "starttime = time.time()\n",
    "\n",
    "df_Broadcast = sqlContext.read.parquet(\"ais/2011/01/Zone18_2011_01/Broadcast.parquet\").cache()\n",
    "df_Broadcast_mon2 = sqlContext.read.parquet(\"ais/2011/02/Zone18_2011_02/Broadcast.parquet\").cache()\n",
    "df_Broadcast_mon3 = sqlContext.read.parquet(\"ais/2011/03/Zone18_2011_03/Broadcast.parquet\").cache()\n",
    "\n",
    "\n",
    "result_frame = df_Broadcast.unionAll(df_Broadcast_mon2)\n",
    "result_frame = result_frame.unionAll(df_Broadcast_mon3)\n",
    "\n",
    "result_frame = result_frame.orderBy(result_frame.MMSI, result_frame.BaseDateTime)\n",
    "windowSpec = Window.partitionBy(result_frame['MMSI']).orderBy(result_frame['MMSI'])\n",
    "MMSIShift = lag(result_frame[\"MMSI\"]).over(windowSpec)\n",
    "\n",
    "result_frame = result_frame.withColumn('CheckMMSI', result_frame['MMSI'] != MMSIShift)\n",
    "\n",
    "#Calculating the Distance from the Latitude and longitude \n",
    "\n",
    "result_frame = result_frame.withColumn('latShift', when(result_frame.CheckMMSI == False, lag(result_frame[\"lat\"]).over(windowSpec)).otherwise(np.nan))\n",
    "result_frame = result_frame.withColumn('lonShift', when(result_frame.CheckMMSI == False, lag(result_frame[\"lon\"]).over(windowSpec)).otherwise(np.nan))\n",
    "\n",
    "lat1= toRadians(\"lat\").alias(\"lat1\")\n",
    "lon1= toRadians(\"lon\").alias(\"lon1\")\n",
    "lat2= toRadians(\"latShift\").alias(\"lat2\")\n",
    "lon2= toRadians(\"lonShift\").alias(\"lon2\")\n",
    "\n",
    "dlat = lat2 - lat1\n",
    "dlon = lon2 - lon1\n",
    "\n",
    "a = sin(dlat/2)**2 + cos(lat1) * cos(lat2) * sin(dlon/2)**2\n",
    "c = lit(2) * asin(sqrt(a))\n",
    "r = lit(6367)\n",
    "distance = (c * r).alias('dist')\n",
    "\n",
    "#adding distance values to the main dataset\n",
    "result_frame = result_frame.select('*', distance)\n",
    "\n",
    "\n",
    "#-------------------------------time Calculation ----------------\n",
    "\n",
    "#Shifting datetime column\n",
    "result_frame = result_frame.withColumn('DateShift', when(result_frame['CheckMMSI'] == False, lag(result_frame[\"BaseDateTime\"]).over(windowSpec)).otherwise(np.nan))\n",
    "#casting string date field to the timestamp\n",
    "timeA = result_frame['BaseDateTime'].cast('timestamp')\n",
    "result_frame = result_frame.withColumn(\"BaseDateTime\", timeA)\n",
    "#df_Broadcast.show()\n",
    "#casting string date field to the timestamp\n",
    "timeB = result_frame['DateShift'].cast('timestamp')\n",
    "result_frame = result_frame.withColumn(\"DateShift\", timeB)\n",
    "#taking the difference between two datetime fields\n",
    "timeDiff = (unix_timestamp('BaseDateTime', \"yyyy-MM-dd HH:mm:ss\") - unix_timestamp('DateShift', \"yyyy-MM-dd HH:mm:ss\"))\n",
    "#taking out the total hours\n",
    "timeDiff= timeDiff/3600\n",
    "\n",
    "\n",
    "#adding it to the main dataframe.\n",
    "result_frame = result_frame.withColumn(\"Duration\", timeDiff)\n",
    "result_frame = result_frame.withColumn('speed', result_frame['dist'] / (result_frame['Duration']))\n",
    "result_frame = result_frame.withColumn('stopped', result_frame['speed'] > 5 )\n",
    "\n",
    "df =  1 +  sum(col(\"stopped\").cast(\"long\")).over(windowSpec)\n",
    "result_frame = result_frame.withColumn(\"SubVoyageID\", df)\n",
    "\n",
    "result_frame.write.format(\"com.databricks.spark.csv\").option(\"header\", \"true\").save(\"output_Spark.csv\")\n",
    "\n",
    "print('total time taken:', time.time() - starttime)"
   ]
  },
  {
   "cell_type": "code",
   "execution_count": 5,
   "metadata": {
    "scrolled": true
   },
   "outputs": [
    {
     "name": "stdout",
     "output_type": "stream",
     "text": [
      "+-------------------+---+-------+---------+---+----------+------------+---+------+--------+------------------+----------+-----------------+---------+------------------+----------+------------------+-------------------+--------------------+------------------+-------+-----------+\n",
      "|       BaseDateTime|COG|Heading|     MMSI|ROT|ReceiverID|ReceiverType|SOG|Status|VoyageID|               lat|       lon|__index_level_0__|CheckMMSI|          latShift|  lonShift|              dist|          DateShift|            Duration|             speed|stopped|SubVoyageID|\n",
      "+-------------------+---+-------+---------+---+----------+------------+---+------+--------+------------------+----------+-----------------+---------+------------------+----------+------------------+-------------------+--------------------+------------------+-------+-----------+\n",
      "|2011-03-23 18:19:00|108|    107|211078025|  8|   05SOAK1|           r| 18|     0|    8213|31.931160000000006|-76.495425|         13889188|     null|               NaN|       NaN|               NaN|               null|                null|              null|   null|         53|\n",
      "|2011-03-23 18:20:00|108|    107|211078025|  0|   05SOAK1|           r| 18|     0|    8213|         31.929518|-76.489223|         13889698|    false|31.931160000000006|-76.495425|0.6127167506167766|2011-03-23 18:19:00|0.016666666666666666| 36.76300503700659|   true|         53|\n",
      "|2011-03-23 18:29:00|105|    105|211078025|  0|   05SOAK1|           r| 18|     0|    8213|31.915688000000003|-76.434075|         13894138|    false|         31.929518|-76.489223| 5.423792817381824|2011-03-23 18:20:00|                0.15|36.158618782545496|   true|         53|\n",
      "|2011-03-23 18:36:00|106|    105|211078025|  0|   05SFMC1|           r| 18|     0|    8213|31.906930000000003|-76.396445|         13897145|    false|31.915688000000003|-76.434075|3.6806578072470164|2011-03-23 18:29:00| 0.11666666666666667|31.548495490688712|   true|         53|\n",
      "|2011-03-23 18:37:59|104|    105|211078025|  0|   05SFMC1|           r| 18|     0|    8213|31.903755000000004|-76.382518|         13898255|    false|31.906930000000003|-76.396445|1.3603756107508598|2011-03-23 18:36:00| 0.03305555555555555| 41.15422015716887|   true|         53|\n",
      "|2011-03-23 18:40:00|105|    106|211078025|249|   05SOAK1|           r| 18|     0|    8213|         31.902445|-76.376822|         13898706|    false|31.903755000000004|-76.382518|0.5567238722781063|2011-03-23 18:37:59| 0.03361111111111111| 16.56368545620812|   true|         53|\n",
      "|2011-03-23 18:40:59|105|    105|211078025|  0|   05SFMC1|           r| 18|     0|    8213|31.900902000000002| -76.37007|         13899242|    false|         31.902445|-76.376822|0.6596604509728662|2011-03-23 18:40:00| 0.01638888888888889| 40.25046819495454|   true|         53|\n",
      "|2011-03-23 18:42:00|106|    106|211078025|  0|   05SFMC1|           r| 18|     0|    8213|31.899567000000005|-76.364452|         13899689|    false|31.900902000000002| -76.37007| 0.550383045985538|2011-03-23 18:40:59|0.016944444444444446|32.481622386031745|   true|         53|\n",
      "|2011-03-23 18:43:00|104|    105|211078025|251|   05SFMC1|           r| 18|     0|    8213|         31.898297|-76.358802|         13900160|    false|31.899567000000005|-76.364452|0.5514053345854205|2011-03-23 18:42:00|0.016666666666666666|33.084320075125234|   true|         53|\n",
      "|2011-03-23 18:43:59|105|    105|211078025|  8|   05SOAK1|           r| 18|     0|    8213|31.897028000000006|-76.353133|         13900624|    false|         31.898297|-76.358802|0.5531171287843616|2011-03-23 18:43:00| 0.01638888888888889| 33.74951972243562|   true|         53|\n",
      "|2011-03-23 18:45:00|105|    105|211078025| 13|   05SFMC1|           r| 18|     0|    8213|31.895489999999995| -76.34633|         13901163|    false|31.897028000000006|-76.353133|0.6642008898759506|2011-03-23 18:43:59|0.016944444444444446| 39.19874104185938|   true|         53|\n",
      "|2011-03-23 18:46:00|103|    104|211078025|  0|   05SFMC1|           r| 18|     0|    8213|31.894277000000002|-76.340637|         13901625|    false|31.895489999999995| -76.34633|0.5537750035137903|2011-03-23 18:45:00|0.016666666666666666| 33.22650021082742|   true|         53|\n",
      "|2011-03-23 18:46:59|103|    106|211078025|  7|   05SOAK1|           r| 18|     0|    8213|31.893213000000003|-76.334897|         13902085|    false|31.894277000000002|-76.340637| 0.554317221049943|2011-03-23 18:46:00| 0.01638888888888889| 33.82274569118296|   true|         53|\n",
      "|2011-03-23 18:49:59|106|    106|211078025|  0|   05SOAK1|           r| 18|     0|    8213|         31.889662| -76.31836|         13903394|    false|31.893213000000003|-76.334897|1.6094057936151878|2011-03-23 18:46:59|                0.05|32.188115872303754|   true|         53|\n",
      "|2011-03-23 18:51:00|103|    105|211078025|  0|   05SFMC1|           r| 18|     0|    8213|         31.887608|-76.308652|         13904163|    false|         31.889662| -76.31836| 0.943996148417638|2011-03-23 18:49:59|0.016944444444444446| 55.71124810333601|   true|         53|\n",
      "|2011-03-23 18:53:00|104|    106|211078025|  0|   05SFMC1|           r| 18|     0|    8213|         31.885947|-76.300647|         13904792|    false|         31.887608|-76.308652| 0.777542774665211|2011-03-23 18:51:00| 0.03333333333333333|23.326283239956332|   true|         53|\n",
      "|2011-03-23 18:53:59|105|    105|211078025|248|   05SFMC1|           r| 18|     0|    8213|31.884150000000005|-76.292675|         13905416|    false|         31.885947|-76.300647|0.7782721123263227|2011-03-23 18:53:00| 0.01638888888888889| 47.48778990465697|   true|         53|\n",
      "|2011-03-23 18:55:00|104|    105|211078025|  0|   05SFMC1|           r| 18|     0|    8213|         31.882982|-76.287052|         13905892|    false|31.884150000000005|-76.292675|0.5462250822018684|2011-03-23 18:53:59|0.016944444444444446| 32.23623435945453|   true|         53|\n",
      "|2011-03-23 18:56:00|104|    106|211078025|  0|   05SFMC1|           r| 18|     0|    8213|31.881780000000006|-76.281352|         13906332|    false|         31.882982|-76.287052|0.5541905303953173|2011-03-23 18:55:00|0.016666666666666666| 33.25143182371904|   true|         53|\n",
      "|2011-03-23 18:56:59|107|    106|211078025|251|   05SFMC1|           r| 18|     0|    8213|31.880472999999995|-76.275775|         13906782|    false|31.881780000000006|-76.281352|0.5459282596275826|2011-03-23 18:56:00| 0.01638888888888889|33.310876858632156|   true|         53|\n",
      "+-------------------+---+-------+---------+---+----------+------------+---+------+--------+------------------+----------+-----------------+---------+------------------+----------+------------------+-------------------+--------------------+------------------+-------+-----------+\n",
      "only showing top 20 rows\n",
      "\n"
     ]
    }
   ],
   "source": [
    "result_frame.show()"
   ]
  },
  {
   "cell_type": "code",
   "execution_count": null,
   "metadata": {
    "collapsed": true
   },
   "outputs": [],
   "source": []
  }
 ],
 "metadata": {
  "kernelspec": {
   "display_name": "conda_local",
   "language": "python",
   "name": "conda_local"
  },
  "language_info": {
   "codemirror_mode": {
    "name": "ipython",
    "version": 3
   },
   "file_extension": ".py",
   "mimetype": "text/x-python",
   "name": "python",
   "nbconvert_exporter": "python",
   "pygments_lexer": "ipython3",
   "version": "3.6.2"
  }
 },
 "nbformat": 4,
 "nbformat_minor": 2
}
